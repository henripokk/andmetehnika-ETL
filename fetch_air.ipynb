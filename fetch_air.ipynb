{
 "cells": [
  {
   "cell_type": "code",
   "execution_count": 7,
   "metadata": {},
   "outputs": [
    {
     "name": "stdout",
     "output_type": "stream",
     "text": [
      "\n",
      "503\n"
     ]
    }
   ],
   "source": [
    "import requests\n",
    "\n",
    "url = 'http://airviro.klab.ee/station/csv'\n",
    "\n",
    "data = '?filter[type]=INDICATOR,filter[cancelSearch]=,filter[stationId]=8,filter[dateFrom]=01.01.2022,filter[dateUntil]=31.12.2022,filter[submitHit]=1,filter[indicatorIds]='\n",
    "\n",
    "r = requests.get('http://airviro.klab.ee/station/csv?filter[type]=INDICATOR,filter[cancelSearch]=,filter[stationId]=8,filter[dateFrom]=01.01.2022,filter[dateUntil]=31.12.2022,filter[submitHit]=1,filter[indicatorIds]=', allow_redirects=True)\n",
    "print(r.text)\n",
    "\n",
    "\n",
    "print(r.status_code)"
   ]
  }
 ],
 "metadata": {
  "kernelspec": {
   "display_name": "Python 3",
   "language": "python",
   "name": "python3"
  },
  "language_info": {
   "codemirror_mode": {
    "name": "ipython",
    "version": 3
   },
   "file_extension": ".py",
   "mimetype": "text/x-python",
   "name": "python",
   "nbconvert_exporter": "python",
   "pygments_lexer": "ipython3",
   "version": "3.9.13"
  },
  "orig_nbformat": 4
 },
 "nbformat": 4,
 "nbformat_minor": 2
}
